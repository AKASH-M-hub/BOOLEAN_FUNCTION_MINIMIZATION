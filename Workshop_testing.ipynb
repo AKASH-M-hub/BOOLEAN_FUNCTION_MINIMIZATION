{
  "nbformat": 4,
  "nbformat_minor": 0,
  "metadata": {
    "colab": {
      "provenance": [],
      "authorship_tag": "ABX9TyM0YvtFJ+B43RmTCrL4WRyH",
      "include_colab_link": true
    },
    "kernelspec": {
      "name": "python3",
      "display_name": "Python 3"
    },
    "language_info": {
      "name": "python"
    }
  },
  "cells": [
    {
      "cell_type": "markdown",
      "metadata": {
        "id": "view-in-github",
        "colab_type": "text"
      },
      "source": [
        "<a href=\"https://colab.research.google.com/github/AKASH-M-hub/BOOLEAN_FUNCTION_MINIMIZATION/blob/main/Workshop_testing.ipynb\" target=\"_parent\"><img src=\"https://colab.research.google.com/assets/colab-badge.svg\" alt=\"Open In Colab\"/></a>"
      ]
    },
    {
      "cell_type": "code",
      "execution_count": 1,
      "metadata": {
        "colab": {
          "base_uri": "https://localhost:8080/"
        },
        "id": "OxV_R_d7ltvq",
        "outputId": "137a69ac-8612-418a-ec07-12a401d28adb"
      },
      "outputs": [
        {
          "output_type": "stream",
          "name": "stdout",
          "text": [
            "Collecting phidata\n",
            "  Downloading phidata-2.7.10-py3-none-any.whl.metadata (38 kB)\n",
            "Requirement already satisfied: docstring-parser in /usr/local/lib/python3.11/dist-packages (from phidata) (0.16)\n",
            "Requirement already satisfied: gitpython in /usr/local/lib/python3.11/dist-packages (from phidata) (3.1.44)\n",
            "Requirement already satisfied: httpx in /usr/local/lib/python3.11/dist-packages (from phidata) (0.28.1)\n",
            "Requirement already satisfied: pydantic in /usr/local/lib/python3.11/dist-packages (from phidata) (2.11.4)\n",
            "Collecting pydantic-settings (from phidata)\n",
            "  Downloading pydantic_settings-2.9.1-py3-none-any.whl.metadata (3.8 kB)\n",
            "Collecting python-dotenv (from phidata)\n",
            "  Downloading python_dotenv-1.1.0-py3-none-any.whl.metadata (24 kB)\n",
            "Requirement already satisfied: pyyaml in /usr/local/lib/python3.11/dist-packages (from phidata) (6.0.2)\n",
            "Requirement already satisfied: rich in /usr/local/lib/python3.11/dist-packages (from phidata) (13.9.4)\n",
            "Collecting tomli (from phidata)\n",
            "  Downloading tomli-2.2.1-cp311-cp311-manylinux_2_17_x86_64.manylinux2014_x86_64.whl.metadata (11 kB)\n",
            "Requirement already satisfied: typer in /usr/local/lib/python3.11/dist-packages (from phidata) (0.15.3)\n",
            "Requirement already satisfied: typing-extensions in /usr/local/lib/python3.11/dist-packages (from phidata) (4.13.2)\n",
            "Requirement already satisfied: gitdb<5,>=4.0.1 in /usr/local/lib/python3.11/dist-packages (from gitpython->phidata) (4.0.12)\n",
            "Requirement already satisfied: anyio in /usr/local/lib/python3.11/dist-packages (from httpx->phidata) (4.9.0)\n",
            "Requirement already satisfied: certifi in /usr/local/lib/python3.11/dist-packages (from httpx->phidata) (2025.4.26)\n",
            "Requirement already satisfied: httpcore==1.* in /usr/local/lib/python3.11/dist-packages (from httpx->phidata) (1.0.9)\n",
            "Requirement already satisfied: idna in /usr/local/lib/python3.11/dist-packages (from httpx->phidata) (3.10)\n",
            "Requirement already satisfied: h11>=0.16 in /usr/local/lib/python3.11/dist-packages (from httpcore==1.*->httpx->phidata) (0.16.0)\n",
            "Requirement already satisfied: annotated-types>=0.6.0 in /usr/local/lib/python3.11/dist-packages (from pydantic->phidata) (0.7.0)\n",
            "Requirement already satisfied: pydantic-core==2.33.2 in /usr/local/lib/python3.11/dist-packages (from pydantic->phidata) (2.33.2)\n",
            "Requirement already satisfied: typing-inspection>=0.4.0 in /usr/local/lib/python3.11/dist-packages (from pydantic->phidata) (0.4.0)\n",
            "Requirement already satisfied: markdown-it-py>=2.2.0 in /usr/local/lib/python3.11/dist-packages (from rich->phidata) (3.0.0)\n",
            "Requirement already satisfied: pygments<3.0.0,>=2.13.0 in /usr/local/lib/python3.11/dist-packages (from rich->phidata) (2.19.1)\n",
            "Requirement already satisfied: click>=8.0.0 in /usr/local/lib/python3.11/dist-packages (from typer->phidata) (8.1.8)\n",
            "Requirement already satisfied: shellingham>=1.3.0 in /usr/local/lib/python3.11/dist-packages (from typer->phidata) (1.5.4)\n",
            "Requirement already satisfied: smmap<6,>=3.0.1 in /usr/local/lib/python3.11/dist-packages (from gitdb<5,>=4.0.1->gitpython->phidata) (5.0.2)\n",
            "Requirement already satisfied: mdurl~=0.1 in /usr/local/lib/python3.11/dist-packages (from markdown-it-py>=2.2.0->rich->phidata) (0.1.2)\n",
            "Requirement already satisfied: sniffio>=1.1 in /usr/local/lib/python3.11/dist-packages (from anyio->httpx->phidata) (1.3.1)\n",
            "Downloading phidata-2.7.10-py3-none-any.whl (716 kB)\n",
            "\u001b[2K   \u001b[90m━━━━━━━━━━━━━━━━━━━━━━━━━━━━━━━━━━━━━━━━\u001b[0m \u001b[32m716.9/716.9 kB\u001b[0m \u001b[31m14.6 MB/s\u001b[0m eta \u001b[36m0:00:00\u001b[0m\n",
            "\u001b[?25hDownloading pydantic_settings-2.9.1-py3-none-any.whl (44 kB)\n",
            "\u001b[2K   \u001b[90m━━━━━━━━━━━━━━━━━━━━━━━━━━━━━━━━━━━━━━━━\u001b[0m \u001b[32m44.4/44.4 kB\u001b[0m \u001b[31m2.3 MB/s\u001b[0m eta \u001b[36m0:00:00\u001b[0m\n",
            "\u001b[?25hDownloading python_dotenv-1.1.0-py3-none-any.whl (20 kB)\n",
            "Downloading tomli-2.2.1-cp311-cp311-manylinux_2_17_x86_64.manylinux2014_x86_64.whl (236 kB)\n",
            "\u001b[2K   \u001b[90m━━━━━━━━━━━━━━━━━━━━━━━━━━━━━━━━━━━━━━━━\u001b[0m \u001b[32m236.0/236.0 kB\u001b[0m \u001b[31m11.9 MB/s\u001b[0m eta \u001b[36m0:00:00\u001b[0m\n",
            "\u001b[?25hInstalling collected packages: tomli, python-dotenv, pydantic-settings, phidata\n",
            "Successfully installed phidata-2.7.10 pydantic-settings-2.9.1 python-dotenv-1.1.0 tomli-2.2.1\n"
          ]
        }
      ],
      "source": [
        "pip install phidata"
      ]
    },
    {
      "cell_type": "code",
      "source": [
        "%%writefile .env\n",
        "GROQ_API_KEY=\"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\""
      ],
      "metadata": {
        "colab": {
          "base_uri": "https://localhost:8080/"
        },
        "id": "DyLwyKw0mjwx",
        "outputId": "7d017407-6bc3-4ed3-db4a-99659e675fce"
      },
      "execution_count": 2,
      "outputs": [
        {
          "output_type": "stream",
          "name": "stdout",
          "text": [
            "Writing .env\n"
          ]
        }
      ]
    },
    {
      "cell_type": "code",
      "source": [
        "pip install dotenv"
      ],
      "metadata": {
        "colab": {
          "base_uri": "https://localhost:8080/"
        },
        "id": "gzqupdBoprv-",
        "outputId": "c001ec58-c0e2-4b7a-ab77-f92b1751ca23"
      },
      "execution_count": 3,
      "outputs": [
        {
          "output_type": "stream",
          "name": "stdout",
          "text": [
            "Collecting dotenv\n",
            "  Downloading dotenv-0.9.9-py2.py3-none-any.whl.metadata (279 bytes)\n",
            "Requirement already satisfied: python-dotenv in /usr/local/lib/python3.11/dist-packages (from dotenv) (1.1.0)\n",
            "Downloading dotenv-0.9.9-py2.py3-none-any.whl (1.9 kB)\n",
            "Installing collected packages: dotenv\n",
            "Successfully installed dotenv-0.9.9\n"
          ]
        }
      ]
    },
    {
      "cell_type": "code",
      "source": [
        "pip install groq"
      ],
      "metadata": {
        "colab": {
          "base_uri": "https://localhost:8080/"
        },
        "id": "unVxFXsGvCuO",
        "outputId": "b5e25c1c-b197-43fa-9d0a-3d0a812441a8"
      },
      "execution_count": 5,
      "outputs": [
        {
          "output_type": "stream",
          "name": "stdout",
          "text": [
            "Collecting groq\n",
            "  Downloading groq-0.24.0-py3-none-any.whl.metadata (15 kB)\n",
            "Requirement already satisfied: anyio<5,>=3.5.0 in /usr/local/lib/python3.11/dist-packages (from groq) (4.9.0)\n",
            "Requirement already satisfied: distro<2,>=1.7.0 in /usr/local/lib/python3.11/dist-packages (from groq) (1.9.0)\n",
            "Requirement already satisfied: httpx<1,>=0.23.0 in /usr/local/lib/python3.11/dist-packages (from groq) (0.28.1)\n",
            "Requirement already satisfied: pydantic<3,>=1.9.0 in /usr/local/lib/python3.11/dist-packages (from groq) (2.11.4)\n",
            "Requirement already satisfied: sniffio in /usr/local/lib/python3.11/dist-packages (from groq) (1.3.1)\n",
            "Requirement already satisfied: typing-extensions<5,>=4.10 in /usr/local/lib/python3.11/dist-packages (from groq) (4.13.2)\n",
            "Requirement already satisfied: idna>=2.8 in /usr/local/lib/python3.11/dist-packages (from anyio<5,>=3.5.0->groq) (3.10)\n",
            "Requirement already satisfied: certifi in /usr/local/lib/python3.11/dist-packages (from httpx<1,>=0.23.0->groq) (2025.4.26)\n",
            "Requirement already satisfied: httpcore==1.* in /usr/local/lib/python3.11/dist-packages (from httpx<1,>=0.23.0->groq) (1.0.9)\n",
            "Requirement already satisfied: h11>=0.16 in /usr/local/lib/python3.11/dist-packages (from httpcore==1.*->httpx<1,>=0.23.0->groq) (0.16.0)\n",
            "Requirement already satisfied: annotated-types>=0.6.0 in /usr/local/lib/python3.11/dist-packages (from pydantic<3,>=1.9.0->groq) (0.7.0)\n",
            "Requirement already satisfied: pydantic-core==2.33.2 in /usr/local/lib/python3.11/dist-packages (from pydantic<3,>=1.9.0->groq) (2.33.2)\n",
            "Requirement already satisfied: typing-inspection>=0.4.0 in /usr/local/lib/python3.11/dist-packages (from pydantic<3,>=1.9.0->groq) (0.4.0)\n",
            "Downloading groq-0.24.0-py3-none-any.whl (127 kB)\n",
            "\u001b[2K   \u001b[90m━━━━━━━━━━━━━━━━━━━━━━━━━━━━━━━━━━━━━━━━\u001b[0m \u001b[32m127.5/127.5 kB\u001b[0m \u001b[31m3.2 MB/s\u001b[0m eta \u001b[36m0:00:00\u001b[0m\n",
            "\u001b[?25hInstalling collected packages: groq\n",
            "Successfully installed groq-0.24.0\n"
          ]
        }
      ]
    },
    {
      "cell_type": "code",
      "source": [
        "from phi.agent import Agent\n",
        "from phi.model.groq import Groq\n",
        "from dotenv import load_dotenv\n"
      ],
      "metadata": {
        "id": "L9qJ11Scx4BI"
      },
      "execution_count": 14,
      "outputs": []
    },
    {
      "cell_type": "code",
      "source": [
        "load_dotenv()"
      ],
      "metadata": {
        "colab": {
          "base_uri": "https://localhost:8080/"
        },
        "id": "W3MyKD_myQMb",
        "outputId": "f8730928-5125-49aa-a2b9-860cd7593cf5"
      },
      "execution_count": 16,
      "outputs": [
        {
          "output_type": "execute_result",
          "data": {
            "text/plain": [
              "True"
            ]
          },
          "metadata": {},
          "execution_count": 16
        }
      ]
    },
    {
      "cell_type": "code",
      "source": [
        "agent=Agent(model=Groq(id=\"deepseek-r1-distill-llama-70b\"))"
      ],
      "metadata": {
        "id": "Ablo4BGkymv0"
      },
      "execution_count": 18,
      "outputs": []
    },
    {
      "cell_type": "code",
      "source": [
        "agent.print_response(\"How to be a good person\")"
      ],
      "metadata": {
        "colab": {
          "base_uri": "https://localhost:8080/"
        },
        "id": "Wv1AEQ1q0HVO",
        "outputId": "d40fe499-7013-47c3-f950-671e2ae66c00"
      },
      "execution_count": 25,
      "outputs": [
        {
          "output_type": "stream",
          "name": "stdout",
          "text": [
            "┏━ Message ━━━━━━━━━━━━━━━━━━━━━━━━━━━━━━━━━━━━━━━━━━━━━━━━━━━━━━━━━━━━━━━━━━━━┓\n",
            "┃                                                                              ┃\n",
            "┃ How to be a good person                                                      ┃\n",
            "┃                                                                              ┃\n",
            "┗━━━━━━━━━━━━━━━━━━━━━━━━━━━━━━━━━━━━━━━━━━━━━━━━━━━━━━━━━━━━━━━━━━━━━━━━━━━━━━┛\n",
            "┏━ Response (6.8s) ━━━━━━━━━━━━━━━━━━━━━━━━━━━━━━━━━━━━━━━━━━━━━━━━━━━━━━━━━━━━┓\n",
            "┃                                                                              ┃\n",
            "┃ <think>                                                                      ┃\n",
            "┃ Okay, so I want to figure out how to be a good person. Hmm, where do I even  ┃\n",
            "┃ start? I guess being a good person means different things to different       ┃\n",
            "┃ people, right? Maybe it's about being kind, honest, and respectful. But I'm  ┃\n",
            "┃ not entirely sure. Let me think about this.                                  ┃\n",
            "┃                                                                              ┃\n",
            "┃ First, I should consider what traits good people have. I know people who are ┃\n",
            "┃ always kind and helpful, so kindness must be important. But is it just about ┃\n",
            "┃ being nice, or is there more to it? Maybe it's also about how you treat      ┃\n",
            "┃ others when it's hard, not just when it's easy. Like, being kind even when   ┃\n",
            "┃ someone is having a bad day or being difficult.                              ┃\n",
            "┃                                                                              ┃\n",
            "┃ Then there's honesty. I think being honest is crucial because trust is built ┃\n",
            "┃ on honesty. If you lie or cheat, people won't trust you, and trust is        ┃\n",
            "┃ important in any relationship. But sometimes telling the truth can be hard,  ┃\n",
            "┃ especially if it might hurt someone's feelings. So maybe it's about being    ┃\n",
            "┃ honest but also compassionate when you do it.                                ┃\n",
            "┃                                                                              ┃\n",
            "┃ Respect is another big one. Treating others with respect means listening to  ┃\n",
            "┃ their opinions, not interrupting, and valuing their feelings. But what if    ┃\n",
            "┃ someone doesn't respect you? How do you maintain respect then? Maybe it's    ┃\n",
            "┃ about standing up for yourself without being disrespectful.                  ┃\n",
            "┃                                                                              ┃\n",
            "┃ Empathy is something I've heard about a lot. It's about understanding how    ┃\n",
            "┃ others feel and putting yourself in their shoes. I think that helps in being ┃\n",
            "┃ compassionate and kind. But sometimes it's hard to be empathetic, especially ┃\n",
            "┃ when you're stressed or going through your own issues. How do you balance    ┃\n",
            "┃ that?                                                                        ┃\n",
            "┃                                                                              ┃\n",
            "┃ Taking responsibility for your actions is important too. If you make a       ┃\n",
            "┃ mistake, owning up to it and apologizing seems like the right thing to do.   ┃\n",
            "┃ But I know people who blame others instead of taking responsibility, and     ┃\n",
            "┃ that doesn't seem good. So maybe being accountable is a key part of being a  ┃\n",
            "┃ good person.                                                                 ┃\n",
            "┃                                                                              ┃\n",
            "┃ Helping others is something I've always thought is part of being good.       ┃\n",
            "┃ Whether it's volunteering, donating to charity, or just helping a friend     ┃\n",
            "┃ move, it's about giving back. But how much should you give? There's a        ┃\n",
            "┃ balance because you don't want to overextend yourself and burn out.          ┃\n",
            "┃                                                                              ┃\n",
            "┃ Self-awareness is another trait I've heard about. Knowing your strengths and ┃\n",
            "┃ weaknesses can help you improve. But how do you develop self-awareness?      ┃\n",
            "┃ Maybe through reflection or seeking feedback from others.                    ┃\n",
            "┃                                                                              ┃\n",
            "┃ Gratitude is something I've been trying to practice more. Being thankful for ┃\n",
            "┃ what you have can make you more positive and appreciative. But sometimes     ┃\n",
            "┃ life gets tough, and it's hard to feel grateful. How do you maintain that    ┃\n",
            "┃ mindset?                                                                     ┃\n",
            "┃                                                                              ┃\n",
            "┃  Forgiveness is tricky. Letting go of grudges is good for your own peace of  ┃\n",
            "┃ mind, but it's hard when someone wrongs you. How do you forgive without      ┃\n",
            "┃ forgetting or becoming a pushover?                                           ┃\n",
            "┃                                                                              ┃\n",
            "┃ Standing up for what's right, like fighting against injustice, seems         ┃\n",
            "┃ important. But it's not always easy, especially if you're standing alone.    ┃\n",
            "┃ How do you find the courage to do that?                                      ┃\n",
            "┃                                                                              ┃\n",
            "┃ Continuous improvement means always trying to be better. But it's easy to    ┃\n",
            "┃ get complacent. How do you keep pushing yourself to grow?                    ┃\n",
            "┃                                                                              ┃\n",
            "┃ Being a good friend and family member involves being supportive and loyal.   ┃\n",
            "┃ But sometimes relationships require sacrifice. How do you know when to give  ┃\n",
            "┃ and when to set boundaries?                                                  ┃\n",
            "┃                                                                              ┃\n",
            "┃ Taking care of yourself is often overlooked. If you're not well, you can't   ┃\n",
            "┃ help others. But self-care can feel selfish. How do you balance that?        ┃\n",
            "┃                                                                              ┃\n",
            "┃ Living with integrity means your actions match your values. But sometimes    ┃\n",
            "┃ it's tempting to take shortcuts or compromise your values for convenience or ┃\n",
            "┃ gain. How do you stay true to your principles?                               ┃\n",
            "┃                                                                              ┃\n",
            "┃ Practicing mindfulness helps you stay present and aware. But with everything ┃\n",
            "┃ going on, it's easy to get distracted. How do you incorporate mindfulness    ┃\n",
            "┃ into daily life?                                                             ┃\n",
            "┃                                                                              ┃\n",
            "┃ Smiling and showing positivity can make a big difference. But on bad days,   ┃\n",
            "┃ it's hard to be positive. How do you maintain that?                          ┃\n",
            "┃                                                                              ┃\n",
            "┃ Standing up for yourself without being arrogant is a balance. It's about     ┃\n",
            "┃ knowing your worth without putting others down.                              ┃\n",
            "┃                                                                              ┃\n",
            "┃ Caring for the environment is part of being a good person now. But it's easy ┃\n",
            "┃ to feel like individual actions don't matter. How can one person make a      ┃\n",
            "┃ difference?                                                                  ┃\n",
            "┃                                                                              ┃\n",
            "┃ So, putting all this together, being a good person involves a lot of         ┃\n",
            "┃ different traits and practices. It's not just one thing but a combination of ┃\n",
            "┃ kindness, honesty, respect, empathy, responsibility, helping others,         ┃\n",
            "┃ self-awareness, gratitude, forgiveness, standing up for what's right,        ┃\n",
            "┃ continuous improvement, good relationships, self-care, integrity,            ┃\n",
            "┃ mindfulness, positivity, self-respect, and environmental care.               ┃\n",
            "┃                                                                              ┃\n",
            "┃ But how do I actually apply all of this? It seems overwhelming. Maybe I can  ┃\n",
            "┃ start with one or two areas and gradually work on others. For example, start ┃\n",
            "┃ by practicing kindness and honesty, then move on to empathy and taking       ┃\n",
            "┃ responsibility. It's important to remember that no one is perfect, and it's  ┃\n",
            "┃ okay to make mistakes as long as I learn from them.                          ┃\n",
            "┃                                                                              ┃\n",
            "┃ I should also seek feedback from others to understand where I can improve.   ┃\n",
            "┃ Maybe journaling about my actions and how they align with these traits can   ┃\n",
            "┃ help me stay on track. It's a journey, not a destination, so patience and    ┃\n",
            "┃ persistence are key.                                                         ┃\n",
            "┃                                                                              ┃\n",
            "┃ I think the main takeaway is that being a good person is about consistently  ┃\n",
            "┃ trying to do the right thing, even when it's hard, and continuously working  ┃\n",
            "┃ on oneself to become better. It's a lifelong process of growth and learning. ┃\n",
            "┃ </think>                                                                     ┃\n",
            "┃                                                                              ┃\n",
            "┃ Being a good person is a multifaceted journey that encompasses a variety of  ┃\n",
            "┃ traits and practices. Here is a structured approach to achieving this goal:  ┃\n",
            "┃                                                                              ┃\n",
            "┃ 1. **Core Traits:**                                                          ┃\n",
            "┃    - **Kindness:** Show compassion and understanding towards others, even in ┃\n",
            "┃ challenging situations.                                                      ┃\n",
            "┃    - **Honesty:** Build trust through truthful communication, balancing      ┃\n",
            "┃ honesty with compassion.                                                     ┃\n",
            "┃    - **Respect:** Value others' opinions and feelings, maintaining respect   ┃\n",
            "┃ even when it's difficult.                                                    ┃\n",
            "┃    - **Empathy:** Strive to understand others' emotions and perspectives,    ┃\n",
            "┃ especially during personal stress.                                           ┃\n",
            "┃    - **Responsibility:** Own your actions, apologize when wrong, and avoid   ┃\n",
            "┃ blame-shifting.                                                              ┃\n",
            "┃                                                                              ┃\n",
            "┃ 2. **Positive Actions:**                                                     ┃\n",
            "┃    - **Helping Others:** Engage in acts of kindness, whether through         ┃\n",
            "┃ volunteering or everyday gestures, while maintaining personal balance.       ┃\n",
            "┃    - **Self-Awareness:** Reflect on your strengths and weaknesses, seeking   ┃\n",
            "┃ feedback for growth.                                                         ┃\n",
            "┃    - **Gratitude:** Cultivate thankfulness, even in tough times, to foster a ┃\n",
            "┃ positive mindset.                                                            ┃\n",
            "┃                                                                              ┃\n",
            "┃ 3. **Resilience and Integrity:**                                             ┃\n",
            "┃    - **Forgiveness:** Let go of grudges for personal peace, without          ┃\n",
            "┃ condoning wrongdoing.                                                        ┃\n",
            "┃    - **Stand Up for Justice:** Advocate for what's right, finding courage    ┃\n",
            "┃ even when alone.                                                             ┃\n",
            "┃    - **Continuous Improvement:** Commit to lifelong learning and             ┃\n",
            "┃ self-growth, avoiding complacency.                                           ┃\n",
            "┃                                                                              ┃\n",
            "┃ 4. **Relationships and Self-Care:**                                          ┃\n",
            "┃    - **Nurture Relationships:** Be a supportive friend and family member,    ┃\n",
            "┃ balancing giving with boundaries.                                            ┃\n",
            "┃    - **Self-Care:** Prioritize well-being to effectively help others,        ┃\n",
            "┃ without guilt.                                                               ┃\n",
            "┃    - **Integrity:** Align actions with personal values, resisting shortcuts  ┃\n",
            "┃ that compromise principles.                                                  ┃\n",
            "┃                                                                              ┃\n",
            "┃ 5. **Mindfulness and Positivity:**                                           ┃\n",
            "┃    - **Mindfulness:** Stay present and aware, incorporating mindfulness into ┃\n",
            "┃ daily life despite distractions.                                             ┃\n",
            "┃    - **Positivity:** Maintain a positive outlook, even on challenging days,  ┃\n",
            "┃ through conscious effort.                                                    ┃\n",
            "┃                                                                              ┃\n",
            "┃ 6. **Self and Environmental Care:**                                          ┃\n",
            "┃    - **Self-Respect:** Know your worth without arrogance, standing up for    ┃\n",
            "┃ yourself respectfully.                                                       ┃\n",
            "┃    - **Environmental Care:** Contribute to sustainability, recognizing the   ┃\n",
            "┃ impact of individual actions.                                                ┃\n",
            "┃                                                                              ┃\n",
            "┃ 7. **Implementation Strategy:**                                              ┃\n",
            "┃    - **Start Small:** Focus on key areas like kindness and honesty,          ┃\n",
            "┃ gradually expanding to others.                                               ┃\n",
            "┃    - **Seek Feedback:** Use others' insights to guide improvement.           ┃\n",
            "┃    - **Reflect:** Journal to track progress and alignment with core values.  ┃\n",
            "┃                                                                              ┃\n",
            "┃ 8. **Conclusion:**                                                           ┃\n",
            "┃    Being a good person is a lifelong journey of growth, learning from        ┃\n",
            "┃ mistakes, and consistently striving to do the right thing. It requires       ┃\n",
            "┃ patience, persistence, and a commitment to positive change.                  ┃\n",
            "┃                                                                              ┃\n",
            "┗━━━━━━━━━━━━━━━━━━━━━━━━━━━━━━━━━━━━━━━━━━━━━━━━━━━━━━━━━━━━━━━━━━━━━━━━━━━━━━┛"
          ]
        }
      ]
    },
    {
      "cell_type": "code",
      "source": [
        "pip install -U googlesearch-python pycountry"
      ],
      "metadata": {
        "colab": {
          "base_uri": "https://localhost:8080/"
        },
        "id": "YqpBQred0ufP",
        "outputId": "5592caf3-501e-40b1-c592-b7c74b83c000"
      },
      "execution_count": 26,
      "outputs": [
        {
          "output_type": "stream",
          "name": "stdout",
          "text": [
            "Collecting googlesearch-python\n",
            "  Downloading googlesearch_python-1.3.0-py3-none-any.whl.metadata (3.4 kB)\n",
            "Collecting pycountry\n",
            "  Downloading pycountry-24.6.1-py3-none-any.whl.metadata (12 kB)\n",
            "Requirement already satisfied: beautifulsoup4>=4.9 in /usr/local/lib/python3.11/dist-packages (from googlesearch-python) (4.13.4)\n",
            "Requirement already satisfied: requests>=2.20 in /usr/local/lib/python3.11/dist-packages (from googlesearch-python) (2.32.3)\n",
            "Requirement already satisfied: soupsieve>1.2 in /usr/local/lib/python3.11/dist-packages (from beautifulsoup4>=4.9->googlesearch-python) (2.7)\n",
            "Requirement already satisfied: typing-extensions>=4.0.0 in /usr/local/lib/python3.11/dist-packages (from beautifulsoup4>=4.9->googlesearch-python) (4.13.2)\n",
            "Requirement already satisfied: charset-normalizer<4,>=2 in /usr/local/lib/python3.11/dist-packages (from requests>=2.20->googlesearch-python) (3.4.1)\n",
            "Requirement already satisfied: idna<4,>=2.5 in /usr/local/lib/python3.11/dist-packages (from requests>=2.20->googlesearch-python) (3.10)\n",
            "Requirement already satisfied: urllib3<3,>=1.21.1 in /usr/local/lib/python3.11/dist-packages (from requests>=2.20->googlesearch-python) (2.4.0)\n",
            "Requirement already satisfied: certifi>=2017.4.17 in /usr/local/lib/python3.11/dist-packages (from requests>=2.20->googlesearch-python) (2025.4.26)\n",
            "Downloading googlesearch_python-1.3.0-py3-none-any.whl (5.6 kB)\n",
            "Downloading pycountry-24.6.1-py3-none-any.whl (6.3 MB)\n",
            "\u001b[2K   \u001b[90m━━━━━━━━━━━━━━━━━━━━━━━━━━━━━━━━━━━━━━━━\u001b[0m \u001b[32m6.3/6.3 MB\u001b[0m \u001b[31m45.5 MB/s\u001b[0m eta \u001b[36m0:00:00\u001b[0m\n",
            "\u001b[?25hInstalling collected packages: pycountry, googlesearch-python\n",
            "Successfully installed googlesearch-python-1.3.0 pycountry-24.6.1\n"
          ]
        }
      ]
    },
    {
      "cell_type": "code",
      "source": [
        "from phi.agent import Agent\n",
        "from phi.tools.googlesearch import GoogleSearch\n",
        "\n",
        "agent = Agent(\n",
        "    model=Groq(id=\"deepseek-r1-distill-llama-70b\"),\n",
        "    tools=[GoogleSearch()],\n",
        "    description=\"Provide today AI news\",\n",
        "    instructions=[\n",
        "        \"Given a topic by the user, respond with 4 latest news items about that topic.\",\n",
        "        \"Search for 10 news items and select the top 4 unique items.\",\n",
        "        \"Search in English and in French.\",\n",
        "    ],\n",
        "    show_tool_calls=True,\n",
        "    debug_mode=True, # if you dont want this just give it in the commemnts.On giving this it wont give you the debug related queries,just give you the requires messages ouput..\n",
        ")\n",
        "agent.print_response(\"Mistral AI\", markdown=True)"
      ],
      "metadata": {
        "colab": {
          "base_uri": "https://localhost:8080/"
        },
        "id": "jEcjB8Sr5klc",
        "outputId": "16386ae8-8e12-455a-ac61-152f2a165f92"
      },
      "execution_count": 33,
      "outputs": [
        {
          "output_type": "stream",
          "name": "stdout",
          "text": [
            "DEBUG    Function: google_search registered with googlesearch                   \n",
            "DEBUG    *********** Agent ID: 28726fd3-ec61-4129-a0c3-64b275f0aa66 *********** \n",
            "DEBUG    *********** Session ID: fc948b6a-d6bd-4bef-9210-0b1d21a71d93           \n",
            "         ***********                                                            \n",
            "DEBUG    Debug logs enabled                                                     \n",
            "DEBUG    *********** Agent Run Start: f4ceaf26-a47c-4e8f-b53d-b94eea475e1a      \n",
            "         ***********                                                            \n",
            "DEBUG    Function google_search from googlesearch added to model.               \n",
            "DEBUG    ---------- Groq Response Start ----------                              \n",
            "DEBUG    ============== system ==============                                   \n",
            "DEBUG    Provide today AI news                                                  \n",
            "                                                                                \n",
            "         ## Instructions                                                        \n",
            "         - Given a topic by the user, respond with 4 latest news items about    \n",
            "         that topic.                                                            \n",
            "         - Search for 10 news items and select the top 4 unique items.          \n",
            "         - Search in English and in French.                                     \n",
            "         - Use markdown to format your answers.                                 \n",
            "DEBUG    ============== user ==============                                     \n",
            "DEBUG    Mistral AI                                                             \n",
            "DEBUG    ============== assistant ==============                                \n",
            "DEBUG    Tool Calls: [                                                          \n",
            "           {                                                                    \n",
            "             \"id\": \"call_dxnz\",                                                 \n",
            "             \"function\": {                                                      \n",
            "               \"arguments\": \"{\\\"query\\\":\\\"latest news Mistral                   \n",
            "         AI\\\",\\\"language\\\":\\\"en\\\",\\\"max_results\\\":5}\",                          \n",
            "               \"name\": \"google_search\"                                          \n",
            "             },                                                                 \n",
            "             \"type\": \"function\"                                                 \n",
            "           }                                                                    \n",
            "         ]                                                                      \n",
            "DEBUG    **************** METRICS START ****************                        \n",
            "DEBUG    * Time to generate response:   0.9894s                                 \n",
            "DEBUG    * Tokens per second:           171.8237 tokens/s                       \n",
            "DEBUG    * Input tokens:                248                                     \n",
            "DEBUG    * Output tokens:               170                                     \n",
            "DEBUG    * Total tokens:                418                                     \n",
            "DEBUG    * Completion time:             0.7236s                                 \n",
            "DEBUG    * Prompt time:                 0.0161s                                 \n",
            "DEBUG    * Queue time:                  0.0636s                                 \n",
            "DEBUG    * Total time:                  0.7397s                                 \n",
            "DEBUG    **************** METRICS END ******************                        \n",
            "DEBUG    Getting function google_search                                         \n",
            "DEBUG    Running: google_search(query=latest news Mistral AI, language=en,      \n",
            "         max_results=5)                                                         \n",
            "DEBUG    Searching Google [en] for: latest news Mistral AI                      \n",
            "DEBUG    ---------- Groq Response Start ----------                              \n",
            "DEBUG    ============== system ==============                                   \n",
            "DEBUG    Provide today AI news                                                  \n",
            "                                                                                \n",
            "         ## Instructions                                                        \n",
            "         - Given a topic by the user, respond with 4 latest news items about    \n",
            "         that topic.                                                            \n",
            "         - Search for 10 news items and select the top 4 unique items.          \n",
            "         - Search in English and in French.                                     \n",
            "         - Use markdown to format your answers.                                 \n",
            "DEBUG    ============== user ==============                                     \n",
            "DEBUG    Mistral AI                                                             \n",
            "DEBUG    ============== assistant ==============                                \n",
            "DEBUG    Tool Calls: [                                                          \n",
            "           {                                                                    \n",
            "             \"id\": \"call_dxnz\",                                                 \n",
            "             \"function\": {                                                      \n",
            "               \"arguments\": \"{\\\"query\\\":\\\"latest news Mistral                   \n",
            "         AI\\\",\\\"language\\\":\\\"en\\\",\\\"max_results\\\":5}\",                          \n",
            "               \"name\": \"google_search\"                                          \n",
            "             },                                                                 \n",
            "             \"type\": \"function\"                                                 \n",
            "           }                                                                    \n",
            "         ]                                                                      \n",
            "DEBUG    ============== tool ==============                                     \n",
            "DEBUG    Tool call Id: call_dxnz                                                \n",
            "DEBUG    [                                                                      \n",
            "           {                                                                    \n",
            "             \"title\": \"Latest news - Mistral AI\",                               \n",
            "             \"url\": \"https://mistral.ai/news\",                                  \n",
            "             \"description\": \" Latest updates from Mistral AI. \\u00b7 Introducing\n",
            "         Le Chat Enterprise \\u00b7 The next chapter of AI is yours. Try le Chat \n",
            "         \\u00b7 Build on la Plateforme \\u00b7 Talk to an expert. \"              \n",
            "           },                                                                   \n",
            "           {                                                                    \n",
            "             \"title\": \"  Mistral AI Models Fail Key Safety Tests, Report Finds  \n",
            "         \",                                                                     \n",
            "             \"url\":                                                             \n",
            "         \"https://www.bankinfosecurity.com/mistral-ai-models-fail-key-safety-tes\n",
            "         ts-report-finds-a-28358\",                                              \n",
            "             \"description\": \" Mistral AI Models Fail Key Safety Tests, Report   \n",
            "         Finds \"                                                                \n",
            "           },                                                                   \n",
            "           {                                                                    \n",
            "             \"title\": \"Mistral claims its newest AI model delivers leading      \n",
            "         performance for ...\",                                                  \n",
            "             \"url\":                                                             \n",
            "         \"https://techcrunch.com/2025/05/07/mistral-claims-its-newest-ai-model-d\n",
            "         elivers-leading-performance-for-the-price/\",                           \n",
            "             \"description\": \" 4 days ago  \\u00b7  French AI startup Mistral is  \n",
            "         releasing a new AI model, Mistral Medium 3, that's focused on          \n",
            "         efficiency without compromising performance. \"                         \n",
            "           },                                                                   \n",
            "           {                                                                    \n",
            "             \"title\": \"Mistral AI adds Medium 3 to its family of models,        \n",
            "         claiming low cost ...\",                                                \n",
            "             \"url\":                                                             \n",
            "         \"https://siliconangle.com/2025/05/07/mistral-ai-adds-medium-3-family-mo\n",
            "         dels-claiming-low-cost-high-performance/\",                             \n",
            "             \"description\": \" 4 days ago  \\u00b7  Paris-based artificial        \n",
            "         intelligence startup Mistral AI today announced the release of a new   \n",
            "         model, Mistral Medium 3, which the company said\\u00a0... \"             \n",
            "           },                                                                   \n",
            "           {                                                                    \n",
            "             \"title\": \"French startup Mistral launches chatbot for companies,   \n",
            "         triples ...\",                                                          \n",
            "             \"url\":                                                             \n",
            "         \"https://www.reuters.com/technology/french-startup-mistral-launches-cha\n",
            "         tbot-companies-triples-revenue-100-days-2025-05-07/\",                  \n",
            "             \"description\": \" 4 days ago  \\u00b7  Mistral AI on Wednesday       \n",
            "         launched its Le Chat chatbot for corporate use, and its CEO said the   \n",
            "         French startup has tripled its revenue in the\\u00a0... \"               \n",
            "           }                                                                    \n",
            "         ]                                                                      \n",
            "DEBUG    ============== assistant ==============                                \n",
            "DEBUG    ### Latest News on Mistral AI                                          \n",
            "                                                                                \n",
            "         1. **Mistral AI Launches Le Chat Enterprise**                          \n",
            "            - **URL**: [https://mistral.ai/news](https://mistral.ai/news)       \n",
            "            - **Description**: Mistral AI has introduced Le Chat Enterprise, a  \n",
            "         next-generation AI solution designed for corporate use. This launch    \n",
            "         marks a significant step in the company's efforts to provide advanced  \n",
            "         AI tools tailored for enterprise environments.                         \n",
            "                                                                                \n",
            "         2. **Mistral AI Models Fail Key Safety Tests**                         \n",
            "            - **URL**:                                                          \n",
            "         [https://www.bankinfosecurity.com/mistral-ai-models-fail-key-safety-tes\n",
            "         ts-report-finds-a-28358](https://www.bankinfosecurity.com/mistral-ai-mo\n",
            "         dels-fail-key-safety-tests-report-finds-a-28358)                       \n",
            "            - **Description**: A recent report has highlighted that Mistral AI  \n",
            "         models have failed certain safety tests, raising concerns about their  \n",
            "         reliability in critical applications.                                  \n",
            "                                                                                \n",
            "         3. **Mistral Medium 3: A New AI Model Focused on Efficiency**          \n",
            "            - **URL**:                                                          \n",
            "         [https://techcrunch.com/2025/05/07/mistral-claims-its-newest-ai-model-d\n",
            "         elivers-leading-performance-for-the-price/](https://techcrunch.com/2025\n",
            "         /05/07/mistral-claims-its-newest-ai-model-delivers-leading-performance-\n",
            "         for-the-price/)                                                        \n",
            "            - **Description**: Mistral AI has released Mistral Medium 3, a new  \n",
            "         AI model that emphasizes efficiency without compromising performance.  \n",
            "         This model is positioned as a cost-effective solution for businesses   \n",
            "         looking to leverage AI capabilities.                                   \n",
            "                                                                                \n",
            "         4. **Mistral AI Triples Revenue with Le Chat Launch**                  \n",
            "            - **URL**:                                                          \n",
            "         [https://www.reuters.com/technology/french-startup-mistral-launches-cha\n",
            "         tbot-companies-triples-revenue-100-days-2025-05-07/](https://www.reuter\n",
            "         s.com/technology/french-startup-mistral-launches-chatbot-companies-trip\n",
            "         les-revenue-100-days-2025-05-07/)                                      \n",
            "            - **Description**: Following the launch of Le Chat, Mistral AI has  \n",
            "         seen a significant surge in revenue, tripling its income within just   \n",
            "         100 days. This success underscores the growing demand for AI-driven    \n",
            "         solutions in the corporate sector.                                     \n",
            "                                                                                \n",
            "         These updates provide a comprehensive overview of the latest           \n",
            "         developments in Mistral AI, covering new product launches, performance \n",
            "         metrics, and business growth.                                          \n",
            "DEBUG    **************** METRICS START ****************                        \n",
            "DEBUG    * Time to generate response:   3.4043s                                 \n",
            "DEBUG    * Tokens per second:           258.7899 tokens/s                       \n",
            "DEBUG    * Input tokens:                813                                     \n",
            "DEBUG    * Output tokens:               881                                     \n",
            "DEBUG    * Total tokens:                1694                                    \n",
            "DEBUG    * Completion time:             3.2036s                                 \n",
            "DEBUG    * Prompt time:                 0.0571s                                 \n",
            "DEBUG    * Queue time:                  0.0146s                                 \n",
            "DEBUG    * Total time:                  3.2607s                                 \n",
            "DEBUG    **************** METRICS END ******************                        \n",
            "DEBUG    ---------- Groq Response End ----------                                \n",
            "DEBUG    Added 4 Messages to AgentMemory                                        \n",
            "DEBUG    Added AgentRun to AgentMemory                                          \n",
            "DEBUG    --**-- Logging Agent Run                                               \n",
            "DEBUG    *********** Agent Run End: f4ceaf26-a47c-4e8f-b53d-b94eea475e1a        \n",
            "         ***********                                                            \n",
            "┏━ Message ━━━━━━━━━━━━━━━━━━━━━━━━━━━━━━━━━━━━━━━━━━━━━━━━━━━━━━━━━━━━━━━━━━━━┓\n",
            "┃                                                                              ┃\n",
            "┃ Mistral AI                                                                   ┃\n",
            "┃                                                                              ┃\n",
            "┗━━━━━━━━━━━━━━━━━━━━━━━━━━━━━━━━━━━━━━━━━━━━━━━━━━━━━━━━━━━━━━━━━━━━━━━━━━━━━━┛\n",
            "┏━ Response (5.2s) ━━━━━━━━━━━━━━━━━━━━━━━━━━━━━━━━━━━━━━━━━━━━━━━━━━━━━━━━━━━━┓\n",
            "┃                                                                              ┃\n",
            "┃ Running:                                                                     ┃\n",
            "┃                                                                              ┃\n",
            "┃  • google_search(query=latest news Mistral AI, language=en, max_results=5)   ┃\n",
            "┃                                                                              ┃\n",
            "┃                          Latest News on Mistral AI                           ┃\n",
            "┃                                                                              ┃\n",
            "┃  1 Mistral AI Launches Le Chat Enterprise                                    ┃\n",
            "┃     • URL: https://mistral.ai/news                                           ┃\n",
            "┃     • Description: Mistral AI has introduced Le Chat Enterprise, a           ┃\n",
            "┃       next-generation AI solution designed for corporate use. This launch    ┃\n",
            "┃       marks a significant step in the company's efforts to provide advanced  ┃\n",
            "┃       AI tools tailored for enterprise environments.                         ┃\n",
            "┃  2 Mistral AI Models Fail Key Safety Tests                                   ┃\n",
            "┃     • URL:                                                                   ┃\n",
            "┃       https://www.bankinfosecurity.com/mistral-ai-models-fail-key-safety-tes ┃\n",
            "┃       ts-report-finds-a-28358                                                ┃\n",
            "┃     • Description: A recent report has highlighted that Mistral AI models    ┃\n",
            "┃       have failed certain safety tests, raising concerns about their         ┃\n",
            "┃       reliability in critical applications.                                  ┃\n",
            "┃  3 Mistral Medium 3: A New AI Model Focused on Efficiency                    ┃\n",
            "┃     • URL:                                                                   ┃\n",
            "┃       https://techcrunch.com/2025/05/07/mistral-claims-its-newest-ai-model-d ┃\n",
            "┃       elivers-leading-performance-for-the-price/                             ┃\n",
            "┃     • Description: Mistral AI has released Mistral Medium 3, a new AI model  ┃\n",
            "┃       that emphasizes efficiency without compromising performance. This      ┃\n",
            "┃       model is positioned as a cost-effective solution for businesses        ┃\n",
            "┃       looking to leverage AI capabilities.                                   ┃\n",
            "┃  4 Mistral AI Triples Revenue with Le Chat Launch                            ┃\n",
            "┃     • URL:                                                                   ┃\n",
            "┃       https://www.reuters.com/technology/french-startup-mistral-launches-cha ┃\n",
            "┃       tbot-companies-triples-revenue-100-days-2025-05-07/                    ┃\n",
            "┃     • Description: Following the launch of Le Chat, Mistral AI has seen a    ┃\n",
            "┃       significant surge in revenue, tripling its income within just 100      ┃\n",
            "┃       days. This success underscores the growing demand for AI-driven        ┃\n",
            "┃       solutions in the corporate sector.                                     ┃\n",
            "┃                                                                              ┃\n",
            "┃ These updates provide a comprehensive overview of the latest developments in ┃\n",
            "┃ Mistral AI, covering new product launches, performance metrics, and business ┃\n",
            "┃ growth.                                                                      ┃\n",
            "┃                                                                              ┃\n",
            "┗━━━━━━━━━━━━━━━━━━━━━━━━━━━━━━━━━━━━━━━━━━━━━━━━━━━━━━━━━━━━━━━━━━━━━━━━━━━━━━┛"
          ]
        }
      ]
    },
    {
      "cell_type": "code",
      "source": [],
      "metadata": {
        "id": "rXY86q5E6-yW"
      },
      "execution_count": null,
      "outputs": []
    },
    {
      "cell_type": "code",
      "source": [],
      "metadata": {
        "id": "hWH1TLWs6w9X"
      },
      "execution_count": null,
      "outputs": []
    }
  ]
}